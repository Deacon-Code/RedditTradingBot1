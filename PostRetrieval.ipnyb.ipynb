{
 "cells": [
  {
   "cell_type": "code",
   "execution_count": 1,
   "metadata": {},
   "outputs": [],
   "source": [
    "#Here is the game plan \n",
    "#First we set up our Reddit API authentication\n",
    "#Then we use pushshift to get historical data for training \n",
    "\n",
    "from psaw import PushshiftAPI    #library Pushshift\n",
    "import datetime as dt            #library for date management\n",
    "import matplotlib.pyplot as plt  #library for plotting"
   ]
  },
  {
   "cell_type": "code",
   "execution_count": null,
   "metadata": {},
   "outputs": [],
   "source": [
    "api = PushshiftAPI()     #object of the API        #initialize the PushshiftAPI"
   ]
  }
 ],
 "metadata": {
  "kernelspec": {
   "display_name": "base",
   "language": "python",
   "name": "python3"
  },
  "language_info": {
   "codemirror_mode": {
    "name": "ipython",
    "version": 3
   },
   "file_extension": ".py",
   "mimetype": "text/x-python",
   "name": "python",
   "nbconvert_exporter": "python",
   "pygments_lexer": "ipython3",
   "version": "3.12.4"
  }
 },
 "nbformat": 4,
 "nbformat_minor": 2
}
